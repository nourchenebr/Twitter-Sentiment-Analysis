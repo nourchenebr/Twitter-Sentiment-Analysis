{
 "cells": [
  {
   "cell_type": "code",
   "execution_count": 1,
   "metadata": {},
   "outputs": [
    {
     "name": "stderr",
     "output_type": "stream",
     "text": [
      "Using TensorFlow backend.\n"
     ]
    }
   ],
   "source": [
    "from models import * \n",
    "import numpy as np\n",
    "import pandas as pd\n",
    "import seaborn as sns\n",
    "import matplotlib.pyplot as plt\n",
    "import warnings\n",
    "from sklearn.model_selection import train_test_split\n",
    "from sklearn.preprocessing import StandardScaler\n",
    "from sklearn.linear_model import LogisticRegression\n",
    "from sklearn.decomposition import PCA\n",
    "from sklearn.pipeline import Pipeline\n",
    "from create_word_vectors import * \n",
    "import pickle \n",
    "import helper\n",
    "from tfidf_methods import * \n",
    "from paths import * \n",
    "from sklearn.ensemble import VotingClassifier\n",
    "from sklearn.linear_model import *\n",
    "from sklearn.svm import  *\n",
    "from sklearn import *\n",
    "from sklearn.model_selection import *\n",
    "from sklearn.naive_bayes import MultinomialNB\n",
    "import re\n",
    "\n",
    "%matplotlib inline"
   ]
  },
  {
   "cell_type": "code",
   "execution_count": null,
   "metadata": {},
   "outputs": [],
   "source": [
    "# Prepare glove embedding mazrix and save it in embeddings\n",
    "X_sequences, y, Kgl_sequences, nb_word , word_embedding, glove_matrix = run_glove_embbedding(GLOVE_EMBEDDING\n",
    "                                        + \"emebddings.pkl\", n_grams = 1, pretrained = True, max_words = None)"
   ]
  },
  {
   "cell_type": "code",
   "execution_count": 3,
   "metadata": {},
   "outputs": [],
   "source": [
    "# Read cleaned files! we will not always perform \n",
    "X = pickle.load(open(CLEANED_DATA_PATH + 'X_Cleaned.pkl', \"rb\"))\n",
    "X_Kgl = pickle.load(open(CLEANED_DATA_PATH + 'X_Kgl_Cleaned.pkl', \"rb\"))"
   ]
  },
  {
   "cell_type": "code",
   "execution_count": 4,
   "metadata": {},
   "outputs": [
    {
     "name": "stdout",
     "output_type": "stream",
     "text": [
      "train tfidf\n",
      "average word vector\n",
      "test tfidf\n",
      "average word vector\n"
     ]
    }
   ],
   "source": [
    "# Prepare tfidf embedding\n",
    "X_train_tfidf_avg, X_test_tfidf_avg, X_train_tfidf, X_test_tfidf = tfidf_embedding(X, X_Kgl, word_embedding)"
   ]
  },
  {
   "cell_type": "code",
   "execution_count": 5,
   "metadata": {},
   "outputs": [],
   "source": [
    "seed = 0\n",
    "X_train, X_test, y_train, y_test = train_test_split(X_train_tfidf_avg, y, test_size = 0.2, random_state = seed, stratify=y)"
   ]
  },
  {
   "cell_type": "markdown",
   "metadata": {},
   "source": [
    "### Define Cross-Validation Schema and Baseline\n"
   ]
  },
  {
   "cell_type": "code",
   "execution_count": 6,
   "metadata": {},
   "outputs": [
    {
     "name": "stdout",
     "output_type": "stream",
     "text": [
      "0.499216\n"
     ]
    }
   ],
   "source": [
    "# Define a baseline using dummey classifier\n",
    "# It enables you to define a basic classifier which apply simple strategies such as stratified\n",
    "# Stratified strategy predicts probability of belonging to positive class as percentage of positive cases\n",
    "\n",
    "from sklearn.dummy import DummyClassifier\n",
    "\n",
    "seed = 0\n",
    "dummy_clf = DummyClassifier(strategy='stratified',random_state = seed)\n",
    "dummy_clf.fit(X_train,y_train)\n",
    "baseline_score = dummy_clf.score(X_test,y_test)\n",
    "print (baseline_score)"
   ]
  },
  {
   "cell_type": "markdown",
   "metadata": {},
   "source": [
    "# Other models with pipeline "
   ]
  },
  {
   "cell_type": "code",
   "execution_count": 15,
   "metadata": {},
   "outputs": [],
   "source": [
    "from sklearn.ensemble import VotingClassifier\n",
    "from sklearn.linear_model import *\n",
    "from sklearn.svm import  *\n",
    "from sklearn import *\n",
    "import numpy as np\n",
    "from sklearn.model_selection import *\n",
    "from sklearn.naive_bayes import MultinomialNB\n",
    "from sklearn.pipeline import Pipeline\n",
    "from sklearn.feature_extraction.text import CountVectorizer\n",
    "from sklearn.linear_model import LogisticRegression\n",
    "from sklearn.pipeline import Pipeline\n",
    "from time import time\n",
    "from  sklearn.metrics import accuracy_score\n",
    "\n",
    "def accuracy_summary(pipeline, x_train, y_train, x_test, y_test):\n",
    "    sentiment_fit = pipeline.fit(x_train, y_train)\n",
    "    y_pred = sentiment_fit.predict(x_test)\n",
    "    accuracy = accuracy_score(y_test, y_pred)\n",
    "    return accuracy\n",
    "\n",
    "def  other_models(x):\n",
    "    clf1 = LogisticRegression()\n",
    "    clf2 = LinearSVC()\n",
    "    clf3 = RidgeClassifier()\n",
    "    clf4 = PassiveAggressiveClassifier()\n",
    "\n",
    "    y = np.array(1250000 * [0] + 1250000 * [1])\n",
    "\n",
    "    X_train, X_test, y_train, y_test = train_test_split(x, y, test_size=0.2)\n",
    "\n",
    "    eclf = VotingClassifier(estimators=[('lr', clf1), ('svc', clf2), ('rcs', clf3), ('pac', clf4)], voting='hard')\n",
    "\n",
    "    for clf, label in zip([clf1, clf2, clf3, clf4, eclf], ['Logistic Regression', 'Linear SVC', 'Ridge Classifier', 'Passive Aggresive Classifier', 'Ensemble']):\n",
    "      \n",
    "        checker_pipeline = Pipeline([\n",
    "                ('classifier', clf)\n",
    "            ])\n",
    "        clf_accuracy = accuracy_summary(checker_pipeline, X_train, y_train, X_test, y_test)\n",
    "\n",
    "        print (\"Validation result for {}\".format(label))\n",
    "        print(clf_accuracy)"
   ]
  },
  {
   "cell_type": "code",
   "execution_count": 16,
   "metadata": {},
   "outputs": [
    {
     "name": "stdout",
     "output_type": "stream",
     "text": [
      "Validation result for Logistic Regression\n",
      "0.755562\n",
      "Validation result for Linear SVC\n",
      "0.754328\n",
      "Validation result for Ridge Classifier\n",
      "0.745474\n",
      "Validation result for Passive Aggresive Classifier\n",
      "0.632484\n",
      "Validation result for Ensemble\n",
      "0.754536\n"
     ]
    }
   ],
   "source": [
    "other_models(X_train_tfidf_avg)"
   ]
  },
  {
   "cell_type": "code",
   "execution_count": 17,
   "metadata": {},
   "outputs": [
    {
     "name": "stdout",
     "output_type": "stream",
     "text": [
      "Validation result for Logistic Regression\n",
      "0.815624\n",
      "Validation result for Linear SVC\n",
      "0.81445\n",
      "Validation result for Ridge Classifier\n",
      "0.813898\n",
      "Validation result for Passive Aggresive Classifier\n",
      "0.786406\n",
      "Validation result for Ensemble\n",
      "0.815008\n"
     ]
    }
   ],
   "source": [
    "other_models(X_train_tfidf)"
   ]
  },
  {
   "cell_type": "code",
   "execution_count": 33,
   "metadata": {},
   "outputs": [],
   "source": [
    "X__tfidf_avg = [0.755562, 0.754328, 0.745474, 0.632484, 0.754536]"
   ]
  },
  {
   "cell_type": "code",
   "execution_count": 34,
   "metadata": {},
   "outputs": [],
   "source": [
    "X_tfidf = [0.815624, 0.81445, 0.813898, 0.786406, 0.815008]"
   ]
  },
  {
   "cell_type": "code",
   "execution_count": 86,
   "metadata": {},
   "outputs": [],
   "source": [
    "df = pd.DataFrame(columns = ['X_tfidf_avg', 'X_tfidf'])\n",
    "df['X_tfidf_avg'] = X__tfidf_avg\n",
    "df['X_tfidf'] = X_tfidf\n",
    "df['models'] = [' Logistic Regression', 'Linear SVC', 'Ridge Classifier', 'Passive Aggresive', 'Ensemble']"
   ]
  },
  {
   "cell_type": "code",
   "execution_count": 103,
   "metadata": {},
   "outputs": [],
   "source": [
    "df = df.sort_values(['X_tfidf_avg'])"
   ]
  },
  {
   "cell_type": "code",
   "execution_count": 107,
   "metadata": {},
   "outputs": [
    {
     "name": "stdout",
     "output_type": "stream",
     "text": [
      "\n"
     ]
    },
    {
     "data": {
      "image/png": "[encoded data removed]",
      "text/plain": [
       "<Figure size 432x288 with 1 Axes>"
      ]
     },
     "metadata": {},
     "output_type": "display_data"
    }
   ],
   "source": [
    "pal = sns.color_palette(\"Greens_d\", 5)\n",
    "ax = sns.barplot(x=\"models\", y=\"X_tfidf_avg\", data=df,palette='Blues')\n",
    "ax.set_xticklabels(df[\"models\"], rotation=60)"
   ]
  },
  {
   "cell_type": "code",
   "execution_count": 108,
   "metadata": {},
   "outputs": [
    {
     "name": "stdout",
     "output_type": "stream",
     "text": [
      "\n"
     ]
    },
    {
     "data": {
      "image/png": "[encoded data removed]",
      "text/plain": [
       "<Figure size 432x288 with 1 Axes>"
      ]
     },
     "metadata": {},
     "output_type": "display_data"
    }
   ],
   "source": [
    "ax = sns.barplot(x=\"models\", y=\"X_tfidf\", data=df,palette='Blues')\n",
    "ax.set_xticklabels(df[\"models\"], rotation=60)"
   ]
  },
  {
   "cell_type": "markdown",
   "metadata": {},
   "source": [
    "###  Since the logistic regression gave us the best accuracy with tf_idf data we will tune it hyper parameters"
   ]
  },
  {
   "cell_type": "code",
   "execution_count": 111,
   "metadata": {},
   "outputs": [],
   "source": [
    "# Separate target and features into test and training and validation sets\n",
    "seed = 1\n",
    "X_train, X_test, y_train, y_test = train_test_split(X_train_tfidf, y, test_size = 0.2, random_state = seed, stratify=y)\n",
    "X_train_train, X_train_val, y_train_train, y_train_val = train_test_split(X_train, y_train, test_size = 0.25, random_state = seed)"
   ]
  },
  {
   "cell_type": "code",
   "execution_count": null,
   "metadata": {},
   "outputs": [],
   "source": [
    "# Remove the ''' to tune the C parameter\n",
    "estimators = []\n",
    "estimators.append(('lr_clf', LogisticRegression()))\n",
    "pipeline = Pipeline(estimators)\n",
    "\n",
    "# Finding best value of C using validation set\n",
    "scores = []\n",
    "Cs = []\n",
    "for C in np.logspace(-4, 5, 10):\n",
    "    pipeline.set_params(lr_clf__C=C) \n",
    "    pipeline.fit(X_train_train,y_train_train)\n",
    "    y_train_pred = pipeline.predict(X_train_val)\n",
    "    scores.append(accuracy_score(y_train_val, y_train_pred))\n",
    "    Cs.append(C)\n",
    "\n",
    "best_C = Cs[scores.index(max(scores))]"
   ]
  },
  {
   "cell_type": "code",
   "execution_count": 129,
   "metadata": {},
   "outputs": [],
   "source": [
    "estimators = []\n",
    "estimators.append(('lr_clf', LogisticRegression()))\n",
    "pipeline = Pipeline(estimators)\n",
    "pipeline.set_params(lr_clf__C=1)\n",
    "pipeline.fit(X_train,y_train)\n",
    "y_pred_lr = pipeline.predict(X_test)"
   ]
  },
  {
   "cell_type": "code",
   "execution_count": 131,
   "metadata": {},
   "outputs": [
    {
     "name": "stdout",
     "output_type": "stream",
     "text": [
      "\n"
     ]
    }
   ],
   "source": [
    "accuracy_score(y_test, y_pred_lr)"
   ]
  },
  {
   "cell_type": "markdown",
   "metadata": {},
   "source": [
    "### Training on neural network "
   ]
  },
  {
   "cell_type": "code",
   "execution_count": 145,
   "metadata": {},
   "outputs": [
    {
     "name": "stdout",
     "output_type": "stream",
     "text": [
      "\n"
     ]
    }
   ],
   "source": [
    "# create LSTM\n",
    "from keras.layers import Dense, Input, LSTM, Embedding, Dropout, Activation, GRU, Conv1D\n",
    "from keras.layers import Bidirectional, GlobalMaxPool1D\n",
    "from keras.models import Model\n",
    "from keras import initializers, regularizers, constraints, optimizers, layers\n",
    "from keras.models import Sequential\n",
    "\n",
    "num_samples = X_train_tfidf_avg.shape[0]\n",
    "num_vals    = X_train_tfidf_avg.shape[1]\n",
    "X_train = np.reshape(X_train_tfidf_avg, (num_samples, num_vals, 1))\n",
    "\n",
    "\n",
    "model = Sequential()\n",
    "model.add(LSTM(6, input_shape=(num_vals, 1), return_sequences=True))\n",
    "model.add(LSTM(6))\n",
    "model.add(Dense(1))\n",
    "model.compile(loss='binary_crossentropy', optimizer='adam', metrics=['accuracy'])\n",
    "model.fit(X_train, y,\n",
    "  epochs=2,\n",
    "  verbose=1,\n",
    "  validation_split=0.1,\n",
    "  shuffle=True)"
   ]
  }
 ],
 "metadata": {
  "kernelspec": {
   "display_name": "Python 3",
   "language": "python",
   "name": "python3"
  },
  "language_info": {
   "codemirror_mode": {
    "name": "ipython",
    "version": 3
   },
   "file_extension": ".py",
   "mimetype": "text/x-python",
   "name": "python",
   "nbconvert_exporter": "python",
   "pygments_lexer": "ipython3",
   "version": "3.6.6"
  }
 },
 "nbformat": 4,
 "nbformat_minor": 2
}
