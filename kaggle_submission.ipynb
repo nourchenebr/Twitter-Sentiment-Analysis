{
 "cells": [
  {
   "cell_type": "code",
   "execution_count": 19,
   "metadata": {},
   "outputs": [],
   "source": [
    "import numpy as np\n",
    "import pickle\n",
    "import csv\n",
    "import xgboost\n",
    "\n",
    "MODEL_DATA = 'models_saving/'\n",
    "MODEL_EMPF = 'emphasize model/'\n",
    "\n",
    "def run_xgboost():\n",
    "\n",
    "    print(\"XGboost training\")\n",
    "    np.random.seed(0)\n",
    "    \n",
    "    train_model_1 = pickle.load(open(MODEL_DATA + \"train_model_1\", \"rb\"))\n",
    "    train_model_2 = pickle.load(open(MODEL_DATA + \"train_model_2\", \"rb\"))\n",
    "    train_model_3 = pickle.load(open(MODEL_DATA +\"train_model_3\", \"rb\"))\n",
    "    train_model_4 = pickle.load(open(MODEL_DATA +\"train_model_4\", \"rb\"))\n",
    "    train_model_5 = pickle.load(open(MODEL_DATA +\"train_model_5\", \"rb\"))\n",
    "    train_model_6 = pickle.load(open(MODEL_DATA +\"train_model_6\", \"rb\"))\n",
    "    train_model_7 = pickle.load(open(MODEL_DATA +\"train_model_7\", \"rb\"))\n",
    "    train_model_8 = pickle.load(open(MODEL_DATA +\"train_model_8\", \"rb\"))\n",
    "    train_model_9 = pickle.load(open(MODEL_DATA +\"train_model_9\", \"rb\"))\n",
    "    train_model_10 = pickle.load(open(MODEL_DATA +\"train_model_10\", \"rb\"))\n",
    "    train_model_11 = pickle.load(open(MODEL_DATA + \"train_model_11\", \"rb\"))\n",
    "    train_model_12 = pickle.load(open(MODEL_DATA + \"train_model_12\", \"rb\"))\n",
    "    train_model_13 = pickle.load(open(MODEL_DATA + \"train_model_13\", \"rb\"))\n",
    "    \n",
    "\n",
    "    test_model_1 = pickle.load(open(MODEL_DATA + \"test_model_1\", \"rb\"))\n",
    "    test_model_2 = pickle.load(open(MODEL_DATA + \"test_model_2\", \"rb\"))\n",
    "    test_model_3 = pickle.load(open(MODEL_DATA + \"test_model_3\", \"rb\"))\n",
    "    test_model_4 = pickle.load(open(MODEL_DATA + \"test_model_4\", \"rb\"))\n",
    "    test_model_5 = pickle.load(open(MODEL_DATA + \"test_model_5\", \"rb\"))\n",
    "    test_model_6 = pickle.load(open(MODEL_DATA + \"test_model_6\", \"rb\"))\n",
    "    test_model_7 = pickle.load(open(MODEL_DATA + \"test_model_7\", \"rb\"))\n",
    "    test_model_8 = pickle.load(open(MODEL_DATA + \"test_model_8\", \"rb\"))\n",
    "    test_model_9 = pickle.load(open(MODEL_DATA + \"test_model_9\", \"rb\"))\n",
    "    test_model_10 = pickle.load(open(MODEL_DATA + \"test_model_10\", \"rb\"))\n",
    "    test_model_11 = pickle.load(open(MODEL_DATA + \"test_model_11\", \"rb\"))\n",
    "    test_model_12 = pickle.load(open(MODEL_DATA + \"test_model_12\", \"rb\"))\n",
    "    test_model_13 = pickle.load(open(MODEL_DATA + \"test_model_13\", \"rb\"))\n",
    "\n",
    "    # best prediction de 1 à 9 !!!! \n",
    "    x_train = np.hstack((  train_model_1, train_model_2, train_model_3,train_model_4, train_model_5,train_model_6,train_model_7,train_model_8,\n",
    "                         train_model_10 ))\n",
    "    \n",
    "    x_test = np.hstack(( test_model_1, test_model_2, test_model_3,test_model_4, test_model_5, test_model_6, test_model_7, test_model_8\n",
    "                        , test_model_10 ))\n",
    "    y = np.array(1250000 * [0] + 1250000 * [1])\n",
    "    np.random.shuffle(y)\n",
    "\n",
    "    model = xgboost.XGBClassifier().fit(x_train, y)\n",
    "    prediction = model.predict(x_test)\n",
    "    prediction = 1 - 2 * prediction\n",
    "\n",
    "    print(\"Generating predictions\")\n",
    "    with open('prediction.csv', 'w') as file:\n",
    "        fieldnames = ['Id', 'Prediction']\n",
    "        writer = csv.DictWriter(file, delimiter=\",\", fieldnames=fieldnames)\n",
    "        writer.writeheader()\n",
    "        for r1, r2 in zip(np.arange(1, 10001), prediction):\n",
    "            writer.writerow({'Id': int(r1), 'Prediction': int(r2)})"
   ]
  },
  {
   "cell_type": "code",
   "execution_count": 20,
   "metadata": {},
   "outputs": [
    {
     "name": "stdout",
     "output_type": "stream",
     "text": [
      "XGboost training\n",
      "Generating predictions\n"
     ]
    }
   ],
   "source": [
    "run_xgboost()"
   ]
  },
  {
   "cell_type": "code",
   "execution_count": null,
   "metadata": {},
   "outputs": [],
   "source": []
  }
 ],
 "metadata": {
  "kernelspec": {
   "display_name": "Python 3",
   "language": "python",
   "name": "python3"
  },
  "language_info": {
   "codemirror_mode": {
    "name": "ipython",
    "version": 3
   },
   "file_extension": ".py",
   "mimetype": "text/x-python",
   "name": "python",
   "nbconvert_exporter": "python",
   "pygments_lexer": "ipython3",
   "version": "3.6.6"
  }
 },
 "nbformat": 4,
 "nbformat_minor": 2
}
