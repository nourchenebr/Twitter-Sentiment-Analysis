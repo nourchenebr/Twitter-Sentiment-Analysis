{
 "cells": [
  {
   "cell_type": "code",
   "execution_count": 1,
   "metadata": {},
   "outputs": [],
   "source": [
    "import numpy as np\n",
    "from helper import *\n",
    "import pickle\n",
    "from paths import * "
   ]
  },
  {
   "cell_type": "code",
   "execution_count": 2,
   "metadata": {},
   "outputs": [
    {
     "name": "stdout",
     "output_type": "stream",
     "text": [
      "Starting Data processing\n",
      "processing hashtag\n",
      "Processing emojis\n",
      "Processing apostrophes\n",
      "Processing repetition\n",
      "Processing spelling mistakes\n",
      "Returning X data and kaggle data\n"
     ]
    }
   ],
   "source": [
    "X,  X_Kaggel = load_data_and_labels(TRAIN_TEST_PATH + 'train_pos_full.txt',\n",
    "                    TRAIN_TEST_PATH + 'train_neg_full.txt', TRAIN_TEST_PATH +'test_data.txt' ,STEMMING = False, LEMMATIZE = False, SMALL_WORDS = False,\n",
    "                                          CLEAN_PUN = False, NUM=False,FILTER_PUNC=False,  STOPWORDS = False, EMPHASIZE = False, SLANG = False)"
   ]
  },
  {
   "cell_type": "code",
   "execution_count": null,
   "metadata": {},
   "outputs": [],
   "source": [
    "# Save files into pickle files \n",
    "add_to_pickle(CLEANED_DATA_PATH + 'X_Cleaned.pkl',X)\n",
    "add_to_pickle(CLEANED_DATA_PATH + 'X_Kgl_Cleaned.pkl',  X_Kaggel)"
   ]
  }
 ],
 "metadata": {
  "kernelspec": {
   "display_name": "Python 3",
   "language": "python",
   "name": "python3"
  },
  "language_info": {
   "codemirror_mode": {
    "name": "ipython",
    "version": 3
   },
   "file_extension": ".py",
   "mimetype": "text/x-python",
   "name": "python",
   "nbconvert_exporter": "python",
   "pygments_lexer": "ipython3",
   "version": "3.6.6"
  }
 },
 "nbformat": 4,
 "nbformat_minor": 2
}
